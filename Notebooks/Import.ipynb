{
 "cells": [
  {
   "cell_type": "code",
   "execution_count": 32,
   "metadata": {
    "collapsed": false
   },
   "outputs": [
    {
     "name": "stdout",
     "output_type": "stream",
     "text": [
      "done\n"
     ]
    }
   ],
   "source": [
    "import xlrd\n",
    "import json\n",
    "import re\n",
    "import time\n",
    "from elasticsearch import Elasticsearch\n",
    "es = Elasticsearch(port=9500)\n",
    "def open_file(path):\n",
    "    book = xlrd.open_workbook(path)\n",
    "    return book.sheet_by_index(0)\n",
    "    \n",
    "typeNames = [\n",
    "        \"\",\n",
    "        \"1 - Ensuring affected people, particularly women, have a stronger voice and greater role in humanitarian action\",\n",
    "        \"2 - Confronting international humanitarian law (“IHL”) violations and finding new ways to protect and assist people in conflict\",\n",
    "        \"3 - Localizing preparedness and response\",\n",
    "        \"4 - Developing new approaches for managing recurrent and protected crises\",\n",
    "        \"5 - Adapting the humanitarian system to new contexts, actors, and challenges\",\n",
    "        \"6 - Global action to address the finance gap\",\n",
    "        \"7 - Creating an enabling environment and investment in innovation to better deal with current and future humanitarian challenges\",\n",
    "        \"8 - Gender\"\n",
    "    ];\n",
    "#----------------------------------------------------------------------   \n",
    "data = open_file('../WHSDATA.xlsx')\n",
    "sentenceSplit = re.compile('(Pg\\. ([0-9]{1,3})\\/([0-9]{1,3})): ((.|.\\n)*(\\n\\n|$))')\n",
    "\n",
    "for row in range(2,479):\n",
    "    doc = dict()\n",
    "    doc['Name'] = data.cell(row,0).value\n",
    "    texts = list()\n",
    "    for col in range(70, 148):\n",
    "        header = data.cell(0, col).value\n",
    "        field = str.split(header, \":\")\n",
    "        title = field[0]\n",
    "        if data.cell(row, col).value == 'x':\n",
    "            if len(field) == 1:\n",
    "                doc['Region'] = title.strip()\n",
    "            else:\n",
    "                doc[title] = field[1].strip()\n",
    "    for col in range(1, 69):\n",
    "        for sent in re.findall(sentenceSplit, data.cell(row, col).value):\n",
    "            doc['page'] = int(sent[1])\n",
    "            doc['total'] = int(sent[2])\n",
    "            doc['text'] = sent[3]\n",
    "            doc[\"subtopic\"] = data.cell(0, col).value\n",
    "            doc['topic'] = typeNames[int(doc[\"subtopic\"][0])]\n",
    "            es.index(index=\"whs6\", doc_type='document', body=doc)\n",
    "print(\"done\")"
   ]
  }
 ],
 "metadata": {
  "kernelspec": {
   "display_name": "Python 3",
   "language": "python",
   "name": "python3"
  },
  "language_info": {
   "codemirror_mode": {
    "name": "ipython",
    "version": 3
   },
   "file_extension": ".py",
   "mimetype": "text/x-python",
   "name": "python",
   "nbconvert_exporter": "python",
   "pygments_lexer": "ipython3",
   "version": "3.4.3"
  }
 },
 "nbformat": 4,
 "nbformat_minor": 0
}
