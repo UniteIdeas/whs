{
 "cells": [
  {
   "cell_type": "code",
   "execution_count": 27,
   "metadata": {
    "collapsed": false
   },
   "outputs": [
    {
     "name": "stdout",
     "output_type": "stream",
     "text": [
      "{'Public Input': 'Submission to WHS', 'Stakeholder Group': 'Faith-based organization', 'Name': '008-world-humanitarian-summit-report-december-2014.pdf', 'total': 20, 'text': 'Action area 7\\n Women, children, the elderly and other vulnerable or marginalised groups need a special focus, in both the response and the accountability mechanisms.\\n Particular members within a household or community will be more vulnerable and exposed to disasters because of a range of socio-cultural dynamics. The humanitarian community has long known this and has increasingly tried to incorporate in emergency programmes the particular needs of women, the elderly, persons with a disability and marginalised groups.\\n Greater effort needs to be made, however, to enable marginalised affected and at-risk communities to play a stronger role in disaster prevention processes and in accountability in response. As a bare minimum, donors and national governments should support nuanced programming approaches that are sensitive to vulnerable and marginalised community members. Local and national actors that have a greater understanding of local communities and social norms can play a key role in identifying socio-cultural dynamics.\\n In Christian Aid’s experience, working with communities and local and national partners in areas of disaster risk as part of a longer-term approach to resilience-building and risk management is the most effective way of enabling communities to discuss and identify issues of vulnerability and marginalisation. This process is sometimes even more effective if communities are brought together with a range of stakeholders, including specialists in supporting the particular needs of vulnerable and disaster-affected populations, to identify appropriate mitigation and response plans.', 'topic': '8 - Gender', 'Region': 'Global Documents', 'subtopic': '8C.\\tGender equality programming including gender analysis and needs assessment:', 'page': 13}\n",
      "done\n"
     ]
    }
   ],
   "source": [
    "import xlrd\n",
    "import json\n",
    "import re\n",
    "import time\n",
    "\n",
    "def open_file(path):\n",
    "    book = xlrd.open_workbook(path)\n",
    "    return book.sheet_by_index(0)\n",
    "    \n",
    "typeNames = [\n",
    "        \"\",\n",
    "        \"1 - Ensuring affected people, particularly women, have a stronger voice and greater role in humanitarian action\",\n",
    "        \"2 - Confronting international humanitarian law (“IHL”) violations and finding new ways to protect and assist people in conflict\",\n",
    "        \"3 - Localizing preparedness and response\",\n",
    "        \"4 - Developing new approaches for managing recurrent and protected crises\",\n",
    "        \"5 - Adapting the humanitarian system to new contexts, actors, and challenges\",\n",
    "        \"6 - Global action to address the finance gap\",\n",
    "        \"7 - Creating an enabling environment and investment in innovation to better deal with current and future humanitarian challenges\",\n",
    "        \"8 - Gender\"\n",
    "    ];\n",
    "#----------------------------------------------------------------------   \n",
    "data = open_file('../WHSDATA.xlsx')\n",
    "sentenceSplit = re.compile('(Pg\\. ([0-9]{1,3})\\/([0-9]{1,3})): ((.|.\\n)*(\\n\\n|$))')\n",
    "\n",
    "for row in range(2,479):\n",
    "    doc = dict()\n",
    "    doc['Name'] = data.cell(row,0).value\n",
    "    texts = list()\n",
    "    for col in range(70, 148):\n",
    "        header = data.cell(0, col).value\n",
    "        field = str.split(header, \":\")\n",
    "        title = field[0]\n",
    "        if data.cell(row, col).value == 'x':\n",
    "            if len(field) == 1:\n",
    "                doc['Region'] = title.strip()\n",
    "            else:\n",
    "                doc[title] = field[1].strip()\n",
    "    for col in range(1, 69):\n",
    "        for sent in re.findall(sentenceSplit, data.cell(row, col).value):\n",
    "            doc['page'] = int(sent[1])\n",
    "            doc['total'] = int(sent[2])\n",
    "            doc['text'] = sent[3]\n",
    "            doc[\"subtopic\"] = data.cell(0, col).value\n",
    "            doc['topic'] = typeNames[int(doc[\"subtopic\"][0])]\n",
    "            \n",
    "    print(json.dump(doc))\n",
    "    break;\n",
    "    \n",
    "print(\"done\")"
   ]
  }
 ],
 "metadata": {
  "kernelspec": {
   "display_name": "Python 3",
   "language": "python",
   "name": "python3"
  },
  "language_info": {
   "codemirror_mode": {
    "name": "ipython",
    "version": 3
   },
   "file_extension": ".py",
   "mimetype": "text/x-python",
   "name": "python",
   "nbconvert_exporter": "python",
   "pygments_lexer": "ipython3",
   "version": "3.4.3"
  }
 },
 "nbformat": 4,
 "nbformat_minor": 0
}
